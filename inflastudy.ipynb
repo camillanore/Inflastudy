{
 "cells": [
  {
   "cell_type": "code",
   "execution_count": 3,
   "metadata": {
    "collapsed": false
   },
   "outputs": [],
   "source": [
    "\"\"\" Inflation Prediction Study\n",
    "Author: Camilla Nore\n",
    "        Trygve Utstumo\n",
    "Date:   2015-08-30\n",
    "\"\"\"\n",
    "import pandas as pd\n",
    "import matplotlib.pyplot as plt\n",
    "import math\n",
    "import numpy as np\n",
    "\n",
    "#%matplotlib notebook\n",
    "%matplotlib inline\n",
    "#plt.rcParams['figure.figsize'] = (10.0, 8.0)\n",
    "\n",
    "# NB: As this is iPython, the module will be cached. If you change \n",
    "#     the module, you have to restart the iPython kernel.\n",
    "from inflastudy import InflaData  # Custom module for this study.\n",
    "from inflastudy import decode_column_name # Decode column name"
   ]
  },
  {
   "cell_type": "code",
   "execution_count": 1,
   "metadata": {
    "collapsed": false
   },
   "outputs": [
    {
     "ename": "NameError",
     "evalue": "name 'InflaData' is not defined",
     "output_type": "error",
     "traceback": [
      "\u001b[1;31m---------------------------------------------------------------------------\u001b[0m",
      "\u001b[1;31mNameError\u001b[0m                                 Traceback (most recent call last)",
      "\u001b[1;32m<ipython-input-1-2339a8f3bc28>\u001b[0m in \u001b[0;36m<module>\u001b[1;34m()\u001b[0m\n\u001b[1;32m----> 1\u001b[1;33m \u001b[0mdata\u001b[0m \u001b[1;33m=\u001b[0m \u001b[0mInflaData\u001b[0m\u001b[1;33m.\u001b[0m\u001b[0mInflaData\u001b[0m\u001b[1;33m(\u001b[0m\u001b[0mfilename\u001b[0m\u001b[1;33m=\u001b[0m\u001b[1;34m'data/kongepanel_upd_ark_A.csv'\u001b[0m\u001b[1;33m)\u001b[0m\u001b[1;33m\u001b[0m\u001b[0m\n\u001b[0m\u001b[0;32m      2\u001b[0m \u001b[1;31m#print data.raw_data.CPI       # Uncomment this line to see raw CPI data.\u001b[0m\u001b[1;33m\u001b[0m\u001b[1;33m\u001b[0m\u001b[0m\n\u001b[0;32m      3\u001b[0m \u001b[1;31m#print data.raw_data.columns   # Uncomment this line to see column names.\u001b[0m\u001b[1;33m\u001b[0m\u001b[1;33m\u001b[0m\u001b[0m\n\u001b[0;32m      4\u001b[0m \u001b[1;31m# Column names wo special characters can be accessed as object members, e.g.: raw_data.CPI\u001b[0m\u001b[1;33m\u001b[0m\u001b[1;33m\u001b[0m\u001b[0m\n\u001b[0;32m      5\u001b[0m \u001b[0mplt\u001b[0m\u001b[1;33m.\u001b[0m\u001b[0mplot\u001b[0m\u001b[1;33m(\u001b[0m\u001b[0mdata\u001b[0m\u001b[1;33m.\u001b[0m\u001b[0mraw_data\u001b[0m\u001b[1;33m.\u001b[0m\u001b[0mindex\u001b[0m\u001b[1;33m,\u001b[0m \u001b[0mdata\u001b[0m\u001b[1;33m.\u001b[0m\u001b[0mraw_data\u001b[0m\u001b[1;33m.\u001b[0m\u001b[0mCPI\u001b[0m\u001b[1;33m,\u001b[0m\u001b[0mlabel\u001b[0m\u001b[1;33m=\u001b[0m\u001b[1;34m'CPI'\u001b[0m\u001b[1;33m)\u001b[0m\u001b[1;33m\u001b[0m\u001b[0m\n",
      "\u001b[1;31mNameError\u001b[0m: name 'InflaData' is not defined"
     ]
    }
   ],
   "source": [
    "data = InflaData.InflaData(filename='data/kongepanel_upd_ark_A.csv')\n",
    "#print data.raw_data.CPI       # Uncomment this line to see raw CPI data.\n",
    "#print data.raw_data.columns   # Uncomment this line to see column names.\n",
    "# Column names wo special characters can be accessed as object members, e.g.: raw_data.CPI\n",
    "plt.plot(data.raw_data.index, data.raw_data.CPI,label='CPI')\n",
    "plt.hold(True)\n",
    "# Column names with special characters need to be accessed by key, e.g.: raw_data['CPI-jae']\n",
    "plt.plot(data.raw_data.index, data.raw_data['CPI-jae'],    label='CPI-jae')\n",
    "plt.plot(data.raw_data.index, data.raw_data['PPR3_05jae'], label='PPR3_05jae')\n",
    "plt.legend()"
   ]
  },
  {
   "cell_type": "code",
   "execution_count": 6,
   "metadata": {
    "collapsed": false
   },
   "outputs": [
    {
     "ename": "NameError",
     "evalue": "name 'data' is not defined",
     "output_type": "error",
     "traceback": [
      "\u001b[1;31m---------------------------------------------------------------------------\u001b[0m",
      "\u001b[1;31mNameError\u001b[0m                                 Traceback (most recent call last)",
      "\u001b[1;32m<ipython-input-6-d70de36e70e2>\u001b[0m in \u001b[0;36m<module>\u001b[1;34m()\u001b[0m\n\u001b[0;32m      4\u001b[0m \u001b[0mplt\u001b[0m\u001b[1;33m.\u001b[0m\u001b[0mxlabel\u001b[0m\u001b[1;33m(\u001b[0m\u001b[1;34m'Year'\u001b[0m\u001b[1;33m)\u001b[0m\u001b[1;33m\u001b[0m\u001b[0m\n\u001b[0;32m      5\u001b[0m \u001b[0mjae_columns\u001b[0m \u001b[1;33m=\u001b[0m \u001b[1;33m[\u001b[0m\u001b[1;33m]\u001b[0m\u001b[1;33m\u001b[0m\u001b[0m\n\u001b[1;32m----> 6\u001b[1;33m \u001b[1;32mfor\u001b[0m \u001b[0mcol\u001b[0m \u001b[1;32min\u001b[0m \u001b[0mdata\u001b[0m\u001b[1;33m.\u001b[0m\u001b[0mraw_data\u001b[0m\u001b[1;33m.\u001b[0m\u001b[0mcolumns\u001b[0m\u001b[1;33m:\u001b[0m\u001b[1;33m\u001b[0m\u001b[0m\n\u001b[0m\u001b[0;32m      7\u001b[0m     \u001b[1;32mif\u001b[0m \u001b[1;33m(\u001b[0m\u001b[1;34m'xe'\u001b[0m \u001b[1;32min\u001b[0m \u001b[0mcol\u001b[0m\u001b[1;33m)\u001b[0m \u001b[1;32mor\u001b[0m \u001b[1;33m(\u001b[0m\u001b[1;34m'jae'\u001b[0m \u001b[1;32min\u001b[0m \u001b[0mcol\u001b[0m\u001b[1;33m)\u001b[0m\u001b[1;33m:\u001b[0m\u001b[1;33m\u001b[0m\u001b[0m\n\u001b[0;32m      8\u001b[0m         \u001b[0mjae_columns\u001b[0m\u001b[1;33m.\u001b[0m\u001b[0mappend\u001b[0m\u001b[1;33m(\u001b[0m\u001b[0mcol\u001b[0m\u001b[1;33m)\u001b[0m\u001b[1;33m\u001b[0m\u001b[0m\n",
      "\u001b[1;31mNameError\u001b[0m: name 'data' is not defined"
     ]
    },
    {
     "data": {
      "image/png": "[encoded data removed]",
      "text/plain": [
       "<matplotlib.figure.Figure at 0xc30d400>"
      ]
     },
     "metadata": {},
     "output_type": "display_data"
    }
   ],
   "source": [
    "plt.figure('All jae predictions')\n",
    "plt.title('CPI jae predictions')\n",
    "plt.ylabel('percent yearly')\n",
    "plt.xlabel('Year')\n",
    "jae_columns = []\n",
    "for col in data.raw_data.columns:\n",
    "    if ('xe' in col) or ('jae' in col):\n",
    "        jae_columns.append(col)\n",
    "        if 'CPI-jae' in col:\n",
    "            linestyle ='b-' \n",
    "        else : \n",
    "            linestyle = '--'\n",
    "        plt.plot(data.raw_data.index,\n",
    "                 data.raw_data[col], linestyle,\n",
    "                 label=col)\n",
    "\n",
    "print jae_columns\n",
    "jae_columns.remove('CPI-jae')\n",
    "\n",
    "\n",
    "cpi_columns = []\n",
    "plt.figure('CPI predictions')\n",
    "plt.title('CPI predictions')\n",
    "plt.ylabel('percent yearly')\n",
    "plt.xlabel('Year')\n",
    "#plt.grid(True)\n",
    "plt.plot(data.raw_data.index,\n",
    "         data.raw_data['CPI'],)\n",
    "         #label ='CPI'\n",
    "         \n",
    "print 'columns', data.raw_data.columns\n",
    "for column_name in data.raw_data.columns:\n",
    "    #print'col is', cpi\n",
    "    if ('cpi' in column_name):\n",
    "        #print 'Found cpi in column:', cpi\n",
    "        cpi_columns.append(column_name)\n",
    "        plt.plot(data.raw_data.index,\n",
    "                 data.raw_data[column_name],'--')\n",
    "                 #label=column_name)\n",
    "#plt.legend()        \n",
    "print 'List of cpi columns:', cpi_columns\n",
    "    \n",
    "#for col in data.raw_data.columns:\n",
    " #   print col\n"
   ]
  },
  {
   "cell_type": "code",
   "execution_count": null,
   "metadata": {
    "collapsed": true
   },
   "outputs": [],
   "source": []
  },
  {
   "cell_type": "code",
   "execution_count": 7,
   "metadata": {
    "collapsed": false
   },
   "outputs": [
    {
     "ename": "NameError",
     "evalue": "name 'data' is not defined",
     "output_type": "error",
     "traceback": [
      "\u001b[1;31m---------------------------------------------------------------------------\u001b[0m",
      "\u001b[1;31mNameError\u001b[0m                                 Traceback (most recent call last)",
      "\u001b[1;32m<ipython-input-7-bbafa017a775>\u001b[0m in \u001b[0;36m<module>\u001b[1;34m()\u001b[0m\n\u001b[0;32m      1\u001b[0m \u001b[1;31m#How to find the vector of predictions one quarter ahead\u001b[0m\u001b[1;33m\u001b[0m\u001b[1;33m\u001b[0m\u001b[0m\n\u001b[1;32m----> 2\u001b[1;33m \u001b[1;32mfor\u001b[0m \u001b[0mt\u001b[0m \u001b[1;32min\u001b[0m \u001b[0mdata\u001b[0m\u001b[1;33m.\u001b[0m\u001b[0mraw_data\u001b[0m\u001b[1;33m.\u001b[0m\u001b[0mindex\u001b[0m\u001b[1;33m:\u001b[0m\u001b[1;33m\u001b[0m\u001b[0m\n\u001b[0m\u001b[0;32m      3\u001b[0m     \u001b[1;32mfor\u001b[0m \u001b[0mcol\u001b[0m \u001b[1;32min\u001b[0m \u001b[0mjae_columns\u001b[0m\u001b[1;33m:\u001b[0m\u001b[1;33m\u001b[0m\u001b[0m\n\u001b[0;32m      4\u001b[0m         \u001b[0mvalue\u001b[0m \u001b[1;33m=\u001b[0m \u001b[0mdata\u001b[0m\u001b[1;33m.\u001b[0m\u001b[0mraw_data\u001b[0m\u001b[1;33m.\u001b[0m\u001b[0mloc\u001b[0m\u001b[1;33m[\u001b[0m\u001b[0mt\u001b[0m\u001b[1;33m,\u001b[0m\u001b[0mcol\u001b[0m\u001b[1;33m]\u001b[0m\u001b[1;33m\u001b[0m\u001b[0m\n\u001b[0;32m      5\u001b[0m         \u001b[1;32mif\u001b[0m \u001b[1;32mnot\u001b[0m \u001b[0mmath\u001b[0m\u001b[1;33m.\u001b[0m\u001b[0misnan\u001b[0m\u001b[1;33m(\u001b[0m\u001b[0mvalue\u001b[0m\u001b[1;33m)\u001b[0m\u001b[1;33m:\u001b[0m\u001b[1;33m\u001b[0m\u001b[0m\n",
      "\u001b[1;31mNameError\u001b[0m: name 'data' is not defined"
     ]
    }
   ],
   "source": [
    "#How to find the vector of predictions one quarter ahead\n",
    "for t in data.raw_data.index:\n",
    "    for col in jae_columns:\n",
    "        value = data.raw_data.loc[t,col]\n",
    "        if not math.isnan(value):\n",
    "            # This is a start, but def not correct\n",
    "            # Maybe because the jae columns are not sorted correctly?\n",
    "            data.raw_data.loc[t, 'firstpred'] = value\n",
    "            data.raw_data.loc[t, 'firstpred_']\n",
    "        break # stop the loop on the first valid prediction\n",
    "        \n",
    "print data.raw_data.firstpred\n",
    "plt.figure('First prediction')\n",
    "plt.plot(data.raw_data.index,\n",
    "        data.raw_data['CPI-jae'])"
   ]
  },
  {
   "cell_type": "code",
   "execution_count": 6,
   "metadata": {
    "collapsed": false
   },
   "outputs": [
    {
     "ename": "NameError",
     "evalue": "name 'data' is not defined",
     "output_type": "error",
     "traceback": [
      "\u001b[1;31m---------------------------------------------------------------------------\u001b[0m",
      "\u001b[1;31mNameError\u001b[0m                                 Traceback (most recent call last)",
      "\u001b[1;32m<ipython-input-6-ea5ff511d686>\u001b[0m in \u001b[0;36m<module>\u001b[1;34m()\u001b[0m\n\u001b[0;32m      1\u001b[0m \u001b[1;31m# How to find the vector of predictions one quarter ahead\u001b[0m\u001b[1;33m\u001b[0m\u001b[1;33m\u001b[0m\u001b[0m\n\u001b[0;32m      2\u001b[0m \u001b[1;33m\u001b[0m\u001b[0m\n\u001b[1;32m----> 3\u001b[1;33m \u001b[1;32mfor\u001b[0m \u001b[0mt\u001b[0m \u001b[1;32min\u001b[0m \u001b[0mdata\u001b[0m\u001b[1;33m.\u001b[0m\u001b[0mraw_data\u001b[0m\u001b[1;33m.\u001b[0m\u001b[0mindex\u001b[0m\u001b[1;33m:\u001b[0m\u001b[1;33m\u001b[0m\u001b[0m\n\u001b[0m\u001b[0;32m      4\u001b[0m     \u001b[1;32mfor\u001b[0m \u001b[0mcol\u001b[0m \u001b[1;32min\u001b[0m \u001b[0mjae_columns\u001b[0m\u001b[1;33m:\u001b[0m\u001b[1;33m\u001b[0m\u001b[0m\n\u001b[0;32m      5\u001b[0m         \u001b[0mvalue\u001b[0m \u001b[1;33m=\u001b[0m \u001b[0mdata\u001b[0m\u001b[1;33m.\u001b[0m\u001b[0mraw_data\u001b[0m\u001b[1;33m.\u001b[0m\u001b[0mloc\u001b[0m\u001b[1;33m[\u001b[0m\u001b[0mt\u001b[0m\u001b[1;33m,\u001b[0m\u001b[0mcol\u001b[0m\u001b[1;33m]\u001b[0m\u001b[1;33m\u001b[0m\u001b[0m\n",
      "\u001b[1;31mNameError\u001b[0m: name 'data' is not defined"
     ]
    }
   ],
   "source": [
    "# How to find the vector of predictions one quarter ahead\n",
    "\n",
    "for t in data.raw_data.index:\n",
    "    for col in jae_columns:\n",
    "        value = data.raw_data.loc[t,col]\n",
    "        if not math.isnan(value):\n",
    "            data.raw_data.loc[t,'firstpred'] = value\n",
    "            data.raw_data.loc[t,'firstpred_src'] = col\n",
    "            # Do not stop the loop on the first column, but rather\n",
    "            # use the last column with a valid number.\n",
    "            # We have to think a bit on how to get the other predictions\n",
    "            # with longer horizons, should probably make a list of these.\n",
    "            # An option is to work on the reverse list of columns, and add \n",
    "            # with longer prediction horizons..\n",
    "            \n",
    "plt.figure('First prediction',figsize=(10,8))\n",
    "plt.plot(data.raw_data.index,\n",
    "         data.raw_data['CPI-jae'],\n",
    "         label='CPI-jae')\n",
    "plt.plot(data.raw_data.index,\n",
    "         data.raw_data.firstpred,\n",
    "         label='First prediction')\n",
    "plt.plot(data.raw_data.index,\n",
    "         data.raw_data['CPI-jae']-data.raw_data.firstpred,\n",
    "         label='First prediction error')\n",
    "plt.legend()\n",
    "plt.grid(True)\n",
    "# Print the plotted data, so it can be verified towards\n",
    "# the excel source data.\n",
    "#print data.raw_data.loc[:,['firstpred','firstpred_src']]\n",
    "\n",
    "# Regn ut square errors på den lista her."
   ]
  },
  {
   "cell_type": "code",
   "execution_count": 8,
   "metadata": {
    "collapsed": false
   },
   "outputs": [],
   "source": [
    "#Regular Expression tools to decode column names\n",
    "\n",
    "import re\n",
    "import numpy as np\n",
    "\n",
    "__ppr_name_regexp = re.compile(\n",
    "    (r'PPR'                  # Start with PPR\n",
    "     r'(?P<quarter>\\d)'      # Look for single digit quarter\n",
    "     r'_'                    # seperated by an underscore\n",
    "     r'(?P<year>\\d\\d)'       # followed by two-digit year\n",
    "     r'(?P<description>.*)'  # and the description tag.\n",
    "     ))\n",
    "\"\"\" The regular expression for this tool. We do not want others outside to use\n",
    "this regular expression. So we make it private by starting the name with __.\n",
    "\"\"\"\n",
    "\n",
    "\n",
    "def decode(column_name):\n",
    "    \"\"\" Internal method for InflaData to get year, quarter and description\n",
    "        from the column names in the input dataset.\n",
    "    \"\"\"\n",
    "    match = __ppr_name_regexp.match(column_name)\n",
    "    if not match:\n",
    "        return None\n",
    "    dictionary = match.groupdict()\n",
    "    return dictionary"
   ]
  },
  {
   "cell_type": "code",
   "execution_count": null,
   "metadata": {
    "collapsed": true
   },
   "outputs": [],
   "source": []
  },
  {
   "cell_type": "code",
   "execution_count": 9,
   "metadata": {
    "collapsed": false
   },
   "outputs": [
    {
     "name": "stdout",
     "output_type": "stream",
     "text": [
      "{'quarter': '1', 'description': 'jae', 'year': '11'}\n",
      "11\n",
      "1\n"
     ]
    }
   ],
   "source": [
    "example = decode('PPR1_11jae')\n",
    "print example\n",
    "print example['year']\n",
    "print example['quarter']"
   ]
  },
  {
   "cell_type": "code",
   "execution_count": 10,
   "metadata": {
    "collapsed": false
   },
   "outputs": [
    {
     "name": "stdout",
     "output_type": "stream",
     "text": [
      "PPR3_11jae gets decoded to:  {'quarter': '3', 'description': 'jae', 'year': '11'}\n"
     ]
    }
   ],
   "source": [
    "# Move decode column name to a module \n",
    "column_name = 'PPR3_11jae'\n",
    "decode_example = decode_column_name.decode(column_name)\n",
    "print column_name, 'gets decoded to: ', decode_example"
   ]
  },
  {
   "cell_type": "code",
   "execution_count": 11,
   "metadata": {
    "collapsed": false
   },
   "outputs": [
    {
     "ename": "NameError",
     "evalue": "name 'data' is not defined",
     "output_type": "error",
     "traceback": [
      "\u001b[1;31m---------------------------------------------------------------------------\u001b[0m",
      "\u001b[1;31mNameError\u001b[0m                                 Traceback (most recent call last)",
      "\u001b[1;32m<ipython-input-11-7ffe2f21c63a>\u001b[0m in \u001b[0;36m<module>\u001b[1;34m()\u001b[0m\n\u001b[0;32m      2\u001b[0m \u001b[1;31m# Since we already have a list of the interesting columns, this is _easy_.\u001b[0m\u001b[1;33m\u001b[0m\u001b[1;33m\u001b[0m\u001b[0m\n\u001b[0;32m      3\u001b[0m \u001b[1;33m\u001b[0m\u001b[0m\n\u001b[1;32m----> 4\u001b[1;33m \u001b[0mcpi_jae_data\u001b[0m \u001b[1;33m=\u001b[0m \u001b[0mdata\u001b[0m\u001b[1;33m.\u001b[0m\u001b[0mraw_data\u001b[0m\u001b[1;33m.\u001b[0m\u001b[0mloc\u001b[0m\u001b[1;33m[\u001b[0m\u001b[1;33m:\u001b[0m\u001b[1;33m,\u001b[0m \u001b[0mjae_columns\u001b[0m\u001b[1;33m]\u001b[0m\u001b[1;33m\u001b[0m\u001b[0m\n\u001b[0m\u001b[0;32m      5\u001b[0m \u001b[1;32mprint\u001b[0m \u001b[0mcpi_jae_data\u001b[0m\u001b[1;33m;\u001b[0m \u001b[1;31m#prints the dataset with columns containing jae or xe\u001b[0m\u001b[1;33m\u001b[0m\u001b[0m\n",
      "\u001b[1;31mNameError\u001b[0m: name 'data' is not defined"
     ]
    }
   ],
   "source": [
    "#Selecting the CPI-jae columns from the rawdata\n",
    "# Since we already have a list of the interesting columns, this is _easy_.\n",
    "\n",
    "cpi_jae_data = data.raw_data.loc[:, jae_columns]\n",
    "print cpi_jae_data; #prints the dataset with columns containing jae or xe\n"
   ]
  },
  {
   "cell_type": "code",
   "execution_count": 12,
   "metadata": {
    "collapsed": false
   },
   "outputs": [
    {
     "name": "stdout",
     "output_type": "stream",
     "text": [
      "Trygve er: 30 years\n",
      "Trygve er: 10985 days\n",
      "Camilla er: 10161 days\n",
      "Trygve er 824 days eldre enn Camilla.\n",
      "Trygve er 9 quarters eldre enn Camilla.\n",
      "Pandas index er: "
     ]
    },
    {
     "ename": "NameError",
     "evalue": "name 'data' is not defined",
     "output_type": "error",
     "traceback": [
      "\u001b[1;31m---------------------------------------------------------------------------\u001b[0m",
      "\u001b[1;31mNameError\u001b[0m                                 Traceback (most recent call last)",
      "\u001b[1;32m<ipython-input-12-516029e0b512>\u001b[0m in \u001b[0;36m<module>\u001b[1;34m()\u001b[0m\n\u001b[0;32m     11\u001b[0m \u001b[0mdt_quarters\u001b[0m \u001b[1;33m=\u001b[0m \u001b[0mint\u001b[0m\u001b[1;33m(\u001b[0m\u001b[0mround\u001b[0m\u001b[1;33m(\u001b[0m\u001b[0mdt\u001b[0m\u001b[1;33m.\u001b[0m\u001b[0mdays\u001b[0m \u001b[1;33m/\u001b[0m \u001b[1;33m(\u001b[0m\u001b[1;36m365.2425\u001b[0m \u001b[1;33m/\u001b[0m \u001b[1;36m4\u001b[0m\u001b[1;33m)\u001b[0m\u001b[1;33m)\u001b[0m\u001b[1;33m)\u001b[0m\u001b[1;33m\u001b[0m\u001b[0m\n\u001b[0;32m     12\u001b[0m \u001b[1;32mprint\u001b[0m \u001b[1;34m'Trygve er'\u001b[0m\u001b[1;33m,\u001b[0m \u001b[0mdt_quarters\u001b[0m\u001b[1;33m,\u001b[0m \u001b[1;34m'quarters eldre enn Camilla.'\u001b[0m\u001b[1;33m\u001b[0m\u001b[0m\n\u001b[1;32m---> 13\u001b[1;33m \u001b[1;32mprint\u001b[0m \u001b[1;34m'Pandas index er: '\u001b[0m\u001b[1;33m,\u001b[0m \u001b[0mdata\u001b[0m\u001b[1;33m.\u001b[0m\u001b[0mraw_data\u001b[0m\u001b[1;33m.\u001b[0m\u001b[0mindex\u001b[0m\u001b[1;33m.\u001b[0m\u001b[0mdtype\u001b[0m\u001b[1;33m\u001b[0m\u001b[0m\n\u001b[0m\u001b[0;32m     14\u001b[0m \u001b[1;32mprint\u001b[0m \u001b[1;34m'Trygve er: '\u001b[0m\u001b[1;33m,\u001b[0m \u001b[0mnp\u001b[0m\u001b[1;33m.\u001b[0m\u001b[0mdatetime64\u001b[0m\u001b[1;33m(\u001b[0m\u001b[1;34m'2015'\u001b[0m\u001b[1;33m)\u001b[0m \u001b[1;33m-\u001b[0m \u001b[0mnp\u001b[0m\u001b[1;33m.\u001b[0m\u001b[0mdatetime64\u001b[0m\u001b[1;33m(\u001b[0m\u001b[1;34m'1985'\u001b[0m\u001b[1;33m)\u001b[0m\u001b[1;33m\u001b[0m\u001b[0m\n\u001b[0;32m     15\u001b[0m \u001b[1;32mprint\u001b[0m \u001b[1;34m'Camilla er:'\u001b[0m\u001b[1;33m,\u001b[0m \u001b[0mnp\u001b[0m\u001b[1;33m.\u001b[0m\u001b[0mdatetime64\u001b[0m\u001b[1;33m(\u001b[0m\u001b[1;34m'2015'\u001b[0m\u001b[1;33m)\u001b[0m \u001b[1;33m-\u001b[0m \u001b[0mnp\u001b[0m\u001b[1;33m.\u001b[0m\u001b[0mdatetime64\u001b[0m\u001b[1;33m(\u001b[0m\u001b[1;34m'1987'\u001b[0m\u001b[1;33m)\u001b[0m\u001b[1;33m\u001b[0m\u001b[0m\n",
      "\u001b[1;31mNameError\u001b[0m: name 'data' is not defined"
     ]
    }
   ],
   "source": [
    "# Test datetime\n",
    "\n",
    "print 'Trygve er:', np.datetime64('2015') - np.datetime64('1985')\n",
    "today = np.datetime64('2015-09-04')\n",
    "trygve = np.datetime64('1985-08-07')\n",
    "camilla = np.datetime64('1987-11-09')\n",
    "print 'Trygve er:', today - trygve\n",
    "print 'Camilla er:', today - camilla\n",
    "print 'Trygve er', camilla - trygve, 'eldre enn Camilla.'\n",
    "dt = pd.Timedelta(camilla-trygve)\n",
    "dt_quarters = int(round(dt.days / (365.2425 / 4)))\n",
    "print 'Trygve er', dt_quarters, 'quarters eldre enn Camilla.'\n",
    "print 'Pandas index er: ', data.raw_data.index.dtype\n",
    "print 'Trygve er: ', np.datetime64('2015') - np.datetime64('1985')\n",
    "print 'Camilla er:', np.datetime64('2015') - np.datetime64('1987')\n",
    "print 'Camilla er ikke 28 år men 27. Vil ha svar i år'\n",
    "print 'Camilla er', np.datetime64('2015-09','Y') - np.datetime64('1987-11','Y') \n",
    "dt_years = int(round(dt.days / (365.2425 / 1)))\n",
    "print 'Trygve er ', dt_years, 'years eldre enn Camilla'\n",
    "print dt_years(today - camilla)\n",
    "print data.raw_data.index.dtype\n",
    "\n"
   ]
  },
  {
   "cell_type": "code",
   "execution_count": 13,
   "metadata": {
    "collapsed": false
   },
   "outputs": [
    {
     "name": "stdout",
     "output_type": "stream",
     "text": [
      " Trygve er 9 quarters eldre enn Camilla.\n"
     ]
    }
   ],
   "source": [
    "from inflastudy import time_tools\n",
    "trygve = np.datetime64('1985-08-07')\n",
    "camilla = np.datetime64('1987-11-09')\n",
    "dt = time_tools.time_diff_in_quarters(trygve, camilla)\n",
    "print 'Trygve er', dt, 'quarters eldre enn Camilla.'"
   ]
  },
  {
   "cell_type": "code",
   "execution_count": 14,
   "metadata": {
    "collapsed": false
   },
   "outputs": [
    {
     "ename": "NameError",
     "evalue": "name 'data' is not defined",
     "output_type": "error",
     "traceback": [
      "\u001b[1;31m---------------------------------------------------------------------------\u001b[0m",
      "\u001b[1;31mNameError\u001b[0m                                 Traceback (most recent call last)",
      "\u001b[1;32m<ipython-input-14-e1687abdc4a2>\u001b[0m in \u001b[0;36m<module>\u001b[1;34m()\u001b[0m\n\u001b[0;32m      5\u001b[0m \u001b[0mplt\u001b[0m\u001b[1;33m.\u001b[0m\u001b[0mxlabel\u001b[0m\u001b[1;33m(\u001b[0m\u001b[1;34m'Year'\u001b[0m\u001b[1;33m)\u001b[0m\u001b[1;33m\u001b[0m\u001b[0m\n\u001b[0;32m      6\u001b[0m \u001b[1;31m# Plot the actual CPI as a solid line.\u001b[0m\u001b[1;33m\u001b[0m\u001b[1;33m\u001b[0m\u001b[0m\n\u001b[1;32m----> 7\u001b[1;33m plt.plot(data.raw_data.index,\n\u001b[0m\u001b[0;32m      8\u001b[0m          \u001b[0mdata\u001b[0m\u001b[1;33m.\u001b[0m\u001b[0mraw_data\u001b[0m\u001b[1;33m[\u001b[0m\u001b[1;34m'CPI'\u001b[0m\u001b[1;33m]\u001b[0m\u001b[1;33m,\u001b[0m\u001b[1;33m\u001b[0m\u001b[0m\n\u001b[0;32m      9\u001b[0m          label ='CPI')\n",
      "\u001b[1;31mNameError\u001b[0m: name 'data' is not defined"
     ]
    },
    {
     "data": {
      "image/png": "[encoded data removed]",
      "text/plain": [
       "<matplotlib.figure.Figure at 0xc310128>"
      ]
     },
     "metadata": {},
     "output_type": "display_data"
    }
   ],
   "source": [
    "# Plot all CPI predictions and the actual CPI.\n",
    "\n",
    "plt.figure('CPI predictions', figsize=(10,8))  # Larger plot.\n",
    "plt.title('CPI predictions')\n",
    "plt.xlabel('Year')\n",
    "# Plot the actual CPI as a solid line.\n",
    "plt.plot(data.raw_data.index,\n",
    "         data.raw_data['CPI'],\n",
    "         label ='CPI')\n",
    "\n",
    "for col_name in data.cpi_predictions:\n",
    "    plt.plot(data.cpi_predictions.index,\n",
    "             data.cpi_predictions[col_name],\n",
    "             '--',\n",
    "             label = 'col_name')\n",
    "data.cpi_predictions.plot(legend=False, style='--')"
   ]
  }
 ],
 "metadata": {
  "kernelspec": {
   "display_name": "Python 2",
   "language": "python",
   "name": "python2"
  },
  "language_info": {
   "codemirror_mode": {
    "name": "ipython",
    "version": 2
   },
   "file_extension": ".py",
   "mimetype": "text/x-python",
   "name": "python",
   "nbconvert_exporter": "python",
   "pygments_lexer": "ipython2",
   "version": "2.7.10"
  }
 },
 "nbformat": 4,
 "nbformat_minor": 0
}
