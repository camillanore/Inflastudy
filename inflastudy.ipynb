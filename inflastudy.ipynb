{
 "cells": [
  {
   "cell_type": "code",
   "execution_count": 1,
   "metadata": {
    "collapsed": false
   },
   "outputs": [],
   "source": [
    "\"\"\" Inflation Prediction Study\n",
    "Author: Camilla Nore\n",
    "        Trygve Utstumo\n",
    "Date:   2015-08-30\n",
    "\"\"\"\n",
    "import pandas as pd\n",
    "import matplotlib.pyplot as plt\n",
    "import math\n",
    "import matplotlib.pyplot as plt\n",
    "#%matplotlib notebook\n",
    "%matplotlib inline\n",
    "#plt.rcParams['figure.figsize'] = (10.0, 8.0)\n",
    "\n",
    "# NB: As this is iPython, the module will be cached. If you change \n",
    "#     the module, you have to restart the iPython kernel.\n",
    "from inflastudy import InflaData  # Custom module for this study."
   ]
  },
  {
   "cell_type": "code",
   "execution_count": 2,
   "metadata": {
    "collapsed": false
   },
   "outputs": [
    {
     "data": {
      "text/plain": [
       "<matplotlib.legend.Legend at 0xc21a128>"
      ]
     },
     "execution_count": 2,
     "metadata": {},
     "output_type": "execute_result"
    },
    {
     "data": {
      "image/png": "[encoded data removed]",
      "text/plain": [
       "<matplotlib.figure.Figure at 0x3fb0860>"
      ]
     },
     "metadata": {},
     "output_type": "display_data"
    }
   ],
   "source": [
    "data = InflaData.InflaData(filename='data/kongepanel_upd_ark_A.csv')\n",
    "#print data.raw_data.CPI       # Uncomment this line to see raw CPI data.\n",
    "#print data.raw_data.columns   # Uncomment this line to see column names.\n",
    "# Column names wo special characters can be accessed as object members, e.g.: raw_data.CPI\n",
    "plt.plot(data.raw_data.index, data.raw_data.CPI,label='CPI')\n",
    "plt.hold(True)\n",
    "# Column names with special characters need to be accessed by key, e.g.: raw_data['CPI-jae']\n",
    "plt.plot(data.raw_data.index, data.raw_data['CPI-jae'],    label='CPI-jae')\n",
    "plt.plot(data.raw_data.index, data.raw_data['PPR3_05jae'], label='PPR3_05jae')\n",
    "plt.legend()"
   ]
  },
  {
   "cell_type": "code",
   "execution_count": 40,
   "metadata": {
    "collapsed": false
   },
   "outputs": [
    {
     "ename": "SyntaxError",
     "evalue": "invalid syntax (<ipython-input-40-d0f8eb1cae49>, line 10)",
     "output_type": "error",
     "traceback": [
      "\u001b[1;36m  File \u001b[1;32m\"<ipython-input-40-d0f8eb1cae49>\"\u001b[1;36m, line \u001b[1;32m10\u001b[0m\n\u001b[1;33m    predictions_1q.append([first_index]) data.raw_data[col]. first_valid_index()\u001b[0m\n\u001b[1;37m                                            ^\u001b[0m\n\u001b[1;31mSyntaxError\u001b[0m\u001b[1;31m:\u001b[0m invalid syntax\n"
     ]
    }
   ],
   "source": [
    "# print data.raw_data.columns\n",
    "plt.figure('All jae predictions and true jae')\n",
    "prediction_1q = []\n",
    "for col in data.raw_data.columns:\n",
    "    if ('jae' in col) or ('xe' in col):\n",
    "        plt.plot(data.raw_data.index, \n",
    "                 data.raw_data[col],\n",
    "                 label=col)\n",
    "        first_index = data.raw_data\n",
    "        predictions_1q.append([first_index]) data.raw_data[col]. first_valid_index()\n",
    "\n",
    "pred_1q_\n",
    "#plt.legend()\n",
    "#plt.show()\n"
   ]
  },
  {
   "cell_type": "code",
   "execution_count": null,
   "metadata": {
    "collapsed": true
   },
   "outputs": [],
   "source": [
    "#How to find the vector of predictions one quarter ahead\n",
    "for t in data.raw_data.index:\n",
    "    for col in jae_columns:\n",
    "        value = data.raw_data.loc[t,col]\n",
    "        if not math.isnan(value):\n",
    "            # This is a start, but def not correct\n",
    "            # Maybe because the jae columns are not sorted correctly?\n",
    "            data.raw_data.loc[t, 'firstpred'] = value\n",
    "            data.raw_data.loc[t, 'firstpred_']\n",
    "        break # stop the loop on the first valid prediction\n",
    "        \n",
    "print data.raw_data.firstpred\n",
    "plt.figure('First prediction')\n",
    "plt.plot(data.raw_data.index,\n",
    "        data.raw_data['CPI-jae'])"
   ]
  },
  {
   "cell_type": "code",
   "execution_count": null,
   "metadata": {
    "collapsed": true
   },
   "outputs": [],
   "source": []
  }
 ],
 "metadata": {
  "kernelspec": {
   "display_name": "Python 2",
   "language": "python",
   "name": "python2"
  },
  "language_info": {
   "codemirror_mode": {
    "name": "ipython",
    "version": 2
   },
   "file_extension": ".py",
   "mimetype": "text/x-python",
   "name": "python",
   "nbconvert_exporter": "python",
   "pygments_lexer": "ipython2",
   "version": "2.7.10"
  }
 },
 "nbformat": 4,
 "nbformat_minor": 0
}
